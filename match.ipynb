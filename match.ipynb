{
 "cells": [
  {
   "cell_type": "code",
   "execution_count": 1,
   "id": "cee1cb2c",
   "metadata": {},
   "outputs": [],
   "source": [
    "from gwdetectors import *\n",
    "from Functions import *\n",
    "import numpy as np\n",
    "import pandas as pd\n",
    "import matplotlib.pyplot as plt"
   ]
  },
  {
   "cell_type": "code",
   "execution_count": 2,
   "id": "2b9be623",
   "metadata": {},
   "outputs": [],
   "source": [
    "# Define network, detector, signal\n",
    "\n",
    "c = 299792458.0 # m/s\n",
    "\n",
    "# try this, since we expect the detector response for + to be 0 directly overhead\n",
    "detector = TwoArmDetector('test', PSDS[KNOWN_PSDS[1]], (0, 0, 0), arms = ((2e-5, 0, 0), (0, 2e-5, 0)))\n",
    "\n",
    "flipped_H = TwoArmDetector('flipped_H', PSDS[KNOWN_PSDS[0]], \n",
    "                           np.array([-2.16141492636e+06, -3.83469517889e+06, +4.60035022664e+06])/c,\n",
    "                           (np.array([-0.22389266154, +0.79983062746, +0.55690487831]) * 4e3/c, \n",
    "                            np.array([+0.91397818574, +0.02609403989, -0.40492342125]) * 4e3/c), \n",
    "                           long_wavelength_approximation=False)\n",
    "\n",
    "K_instantiator, K_loc, K_arms = DETECTOR_ORIENTATIONS['K']\n",
    "\n",
    "G_instantiator, G_loc, G_arms = DETECTOR_ORIENTATIONS['G']\n",
    "\n",
    "Geo = G_instantiator('Geo', PSDS[KNOWN_PSDS[0]], G_loc, G_arms, long_wavelength_approximation=False)\n",
    "\n",
    "kagra = K_instantiator('Kagra', PSDS[KNOWN_PSDS[0]], K_loc, K_arms, long_wavelength_approximation=False)\n",
    "\n",
    "CE_loc = np.array([-1000, 4000, 4000]) * 1000 / 299792458\n",
    "CE_arms = DETECTORS['CE@L_ce-design'].arms\n",
    "CE_psd = DETECTORS['CE@L_ce-design'].psd\n",
    "CE = TwoArmDetector('CE', CE_psd, CE_loc, CE_arms, long_wavelength_approximation=False)\n",
    "\n",
    "network = Network(DETECTORS['H_aligo-design'], DETECTORS['L_aligo-design'], \n",
    "                  DETECTORS['V_advirgo-design'], CE, kagra)#, kagra, Geo)\n",
    "\n",
    "fsr = 1 / (2 * np.sum(CE_arms[0]**2)**0.5)\n",
    "\n",
    "# Pick shape of sine-Gaussian signal pulse\n",
    "a = fsr # frequency of sinusoidal component \n",
    "A = 1e-23 # Gaussian peak amplitude\n",
    "c = 1e-3 # standard deviation of Gaussian envelope\n",
    "dt= 0\n",
    "p = 0\n",
    "\n",
    "numpts=200\n",
    "spread=4\n",
    "\n",
    "freqs, ast_signal = produce_freqs_signal(numpts, spread, a, A, c, dt, p)\n",
    "\n",
    "info = {'a': a, 'A': A, 'c': c, 'dt':dt, 'phi':p, 'network':network}"
   ]
  },
  {
   "cell_type": "code",
   "execution_count": 3,
   "id": "6560605b",
   "metadata": {},
   "outputs": [],
   "source": [
    "# Parameters for \"true\" data\n",
    "\n",
    "az_true=0\n",
    "po_true=0\n",
    "psi_true=0\n",
    "geocent=0\n",
    "true_keys=['hp']\n",
    "coord = 'geographic'\n",
    "\n",
    "true_modes = dict.fromkeys(true_keys, ast_signal)\n",
    "\n",
    "data = network.project(freqs, geocent, az_true, po_true, psi_true, coord=coord, **true_modes)\n",
    "\n",
    "true_snr = network.snr(freqs, geocent, az_true, po_true, psi_true, coord=coord, **true_modes)\n",
    "\n",
    "true_params = {'pole': po_true, 'azim':az_true,\n",
    "               'psi': psi_true, 'geocent':geocent, 'modes':true_keys\n",
    "              }"
   ]
  },
  {
   "cell_type": "code",
   "execution_count": 4,
   "id": "de6494c5",
   "metadata": {
    "scrolled": true
   },
   "outputs": [
    {
     "data": {
      "text/plain": [
       "0.6927198529472735"
      ]
     },
     "execution_count": 4,
     "metadata": {},
     "output_type": "execute_result"
    }
   ],
   "source": [
    "true_snr"
   ]
  },
  {
   "cell_type": "code",
   "execution_count": 5,
   "id": "cd713162",
   "metadata": {},
   "outputs": [],
   "source": [
    "# Create dictionary with true parameters to store results\n",
    "\n",
    "current_dict = {}"
   ]
  },
  {
   "cell_type": "code",
   "execution_count": 6,
   "id": "d6fa15de",
   "metadata": {},
   "outputs": [],
   "source": [
    "# Calculates optimization over t0, psi, phi0 for a grid of sky locations\n",
    "\n",
    "npts=20 # resolution for psi, t0 \n",
    "ranges_slice = ((0, 2*np.pi, 2*np.pi/8), (dt-0.04, dt+0.04, 0.08/4), (0, 2*np.pi, 2*np.pi/8)) \n",
    "#(dt-0.05, dt+0.05, 0.1/2)\n",
    "geocent=0\n",
    "coord='geographic'\n",
    "keys=['hb']\n",
    "\n",
    "num=45 # resolution for azims, poles\n",
    "\n",
    "azimuths = np.linspace(-np.pi, np.pi, num)\n",
    "poles = np.flip(np.linspace(0, np.pi, num))\n",
    "\n",
    "Azimuths, Poles = np.meshgrid(azimuths[1:], poles[1:-1], indexing='ij')\n",
    "Azimuths_flat = Azimuths.flatten()\n",
    "Poles_flat = Poles.flatten()\n",
    "missing_pairs = [(0, 0), (0, np.pi)]\n",
    "Coords_flat = list(zip(Azimuths_flat, Poles_flat)) + missing_pairs\n",
    "\n",
    "optimization_variables = [a, A, c, network, freqs, geocent, data, coord, keys]\n",
    "\n",
    "if __name__ == '__main__':\n",
    "    list_results = main_cf(Coords_flat, \n",
    "                           filter_3, ranges_slice, npts,\n",
    "                           optimization_variables, \n",
    "                           workers=64, \n",
    "                           finish=True)"
   ]
  },
  {
   "cell_type": "code",
   "execution_count": 30,
   "id": "8127d175",
   "metadata": {},
   "outputs": [
    {
     "data": {
      "text/plain": [
       "(45, 45)"
      ]
     },
     "execution_count": 30,
     "metadata": {},
     "output_type": "execute_result"
    }
   ],
   "source": [
    "reshaped = np.reshape(list_results[:-2], (num-1, num-2))\n",
    "zero_zero = list_results[-2]\n",
    "zero_pi = list_results[-1]\n",
    "zero_pi_arr = np.full((num-1,), zero_pi)\n",
    "zero_zero_arr = np.full((num-1,), zero_zero)\n",
    "poles_added = np.column_stack((zero_pi_arr, reshaped, zero_zero_arr))\n",
    "pi_x_arr = poles_added[-1,:]\n",
    "azimuth_added = np.row_stack((pi_x_arr, poles_added))"
   ]
  },
  {
   "cell_type": "code",
   "execution_count": 31,
   "id": "67154543",
   "metadata": {},
   "outputs": [
    {
     "data": {
      "image/png": "[encoded data removed]",
      "text/plain": [
       "<Figure size 432x288 with 2 Axes>"
      ]
     },
     "metadata": {
      "needs_background": "light"
     },
     "output_type": "display_data"
    }
   ],
   "source": [
    "# Plot filter over sky locations\n",
    "\n",
    "phi_plt = np.linspace(-np.pi, np.pi, num)\n",
    "theta_plt = np.linspace(-np.pi/2., np.pi/2.,num)\n",
    "Phi, Theta = np.meshgrid(phi_plt, theta_plt, indexing='ij')\n",
    "\n",
    "fig = plt.figure()\n",
    "ax = fig.add_subplot(111, projection='mollweide')\n",
    "im = ax.pcolormesh(Phi,Theta, azimuth_added, cmap=plt.cm.Reds) \n",
    "plt.colorbar(im)\n",
    "plt.title('Filter')\n",
    "ax.grid(alpha=0.3, linewidth=0.5)\n",
    "plt.show()"
   ]
  },
  {
   "cell_type": "code",
   "execution_count": 10,
   "id": "9bb9e96f",
   "metadata": {},
   "outputs": [
    {
     "data": {
      "image/png": "[encoded data removed]",
      "text/plain": [
       "<Figure size 432x288 with 2 Axes>"
      ]
     },
     "metadata": {
      "needs_background": "light"
     },
     "output_type": "display_data"
    }
   ],
   "source": [
    "# Plot filter/true snr over sky\n",
    "\n",
    "phi_plt = np.linspace(-np.pi, np.pi, num-1)\n",
    "theta_plt = np.linspace(-np.pi/2., np.pi/2.,num-1)\n",
    "Phi, Theta = np.meshgrid(phi_plt, theta_plt, indexing='ij')\n",
    "\n",
    "fig = plt.figure()\n",
    "ax = fig.add_subplot(111, projection='mollweide')\n",
    "im = ax.pcolormesh(Phi,Theta, azimuth_added/true_snr, cmap=plt.cm.Reds) \n",
    "plt.colorbar(im)\n",
    "plt.title('Filter/SNR')\n",
    "ax.grid(alpha=0.3, linewidth=0.5)\n",
    "plt.show()"
   ]
  },
  {
   "cell_type": "code",
   "execution_count": 32,
   "id": "2224fa98",
   "metadata": {},
   "outputs": [
    {
     "name": "stdout",
     "output_type": "stream",
     "text": [
      "Max filter: 0.690522053518571\n",
      "Match: 0.9968272896765531\n"
     ]
    }
   ],
   "source": [
    "# Overall match\n",
    "\n",
    "max_filter = np.max(list_results)\n",
    "rho_match = max_filter / true_snr\n",
    "\n",
    "print(f\"Max filter: {max_filter}\")\n",
    "print(f\"Match: {rho_match}\")"
   ]
  },
  {
   "cell_type": "code",
   "execution_count": 33,
   "id": "f1a6f4ca",
   "metadata": {},
   "outputs": [
    {
     "name": "stdout",
     "output_type": "stream",
     "text": [
      "[1326]\n",
      "[(1.28519699465037, 0.4997988312529216)]\n"
     ]
    }
   ],
   "source": [
    "# Find sky parameters that give maximum filter response\n",
    "\n",
    "max_skyindex = np.where(list_results == np.max(list_results))\n",
    "print(max_skyindex[0])\n",
    "max_sky_coords = [Coords_flat[i] for i in max_skyindex[0]]\n",
    "print(max_sky_coords)\n",
    "max_az, max_po = max_sky_coords[0]"
   ]
  },
  {
   "cell_type": "code",
   "execution_count": 34,
   "id": "bc1341a6",
   "metadata": {},
   "outputs": [
    {
     "name": "stdout",
     "output_type": "stream",
     "text": [
      "[5.94620443e-04 4.06899581e-03 3.95186213e+00]\n",
      "Max azim: 1.28519699465037, max pole: 0.4997988312529216, max psi: 0.0005946204428783828, max t0:0.004068995805513188, max_phi: 3.951862127451805\n"
     ]
    }
   ],
   "source": [
    "# Find parameters that give maximum filter response\n",
    "\n",
    "if len(max_sky_coords) == 1: \n",
    "    max_vars = brute_max(filter_3, ranges_slice, npts, *optimization_variables, \n",
    "                         max_az, max_po, finish=True)[0]\n",
    "else: \n",
    "    max_vars_all = [brute_max(filter_3, ranges_slice, npts, *optimization_variables, max_az, max_po, \n",
    "                              finish=True)[0] for max_az, max_po in max_sky_coords]\n",
    "    max_vars = max_vars_all[0]\n",
    "\n",
    "print(max_vars)\n",
    "max_psi, max_t0, max_phi = max_vars\n",
    "print(f\"Max azim: {max_az}, max pole: {max_po}, max psi: {max_psi}, max t0:{max_t0}, max_phi: {max_phi}\")"
   ]
  },
  {
   "cell_type": "code",
   "execution_count": 35,
   "id": "5664679e",
   "metadata": {},
   "outputs": [
    {
     "name": "stdout",
     "output_type": "stream",
     "text": [
      "True SNR:0.6927198529472735\n",
      "SNRS:[0.03785027 0.02772547 0.00484577 0.69110195 0.003751  ]\n",
      "Filters:[-0.02997767+2.30861842e-02j -0.02767573-1.65842842e-03j\n",
      "  0.0048284 -4.09509257e-04j -0.17758872-6.60174154e-01j\n",
      "  0.00374132-2.69019980e-04j]\n",
      "Filter0.17689235117484098\n",
      "Match:0.2553591476009064\n",
      "Parameters:(0, 0, 0, 0, 0)\n"
     ]
    }
   ],
   "source": [
    "# test against true parameters (except polarization mode)\n",
    "\n",
    "test_mode = dict.fromkeys(keys, ast_signal)\n",
    "\n",
    "strain = network.project(freqs, geocent, az_true, po_true, psi_true, coord=coord, **test_mode)\n",
    "snrs = network.testsnr(freqs, geocent, az_true, po_true, psi_true, coord=coord, **true_modes)\n",
    "\n",
    "print(f'True SNR:{true_snr}')\n",
    "print(f'SNRS:{snrs}')\n",
    "print(f'Filters:{network.testfilter(freqs, data, strain)}')\n",
    "filter=np.sum(np.array(network.testfilter(freqs, data, strain))**2) ** 0.5\n",
    "print(f'Filter{filter.real}')\n",
    "print(f'Match:{filter.real/true_snr}')\n",
    "print(f'Parameters:{az_true, po_true, psi_true, 0, 0}')"
   ]
  },
  {
   "cell_type": "code",
   "execution_count": 36,
   "id": "51a7a7bc",
   "metadata": {},
   "outputs": [
    {
     "name": "stdout",
     "output_type": "stream",
     "text": [
      "True SNR:0.6927198529472735\n",
      "SNRS:[0.03785027 0.02772547 0.00484577 0.69110195 0.003751  ]\n",
      "Filters:[ 1.48854883e-06-2.97202521e-07j -9.41100045e-07+1.57261151e-07j\n",
      "  1.79231164e-04+8.07304876e-05j  6.90521962e-01-2.60724878e-04j\n",
      "  3.07107782e-04+4.39558493e-04j]\n",
      "Filter:0.690521908814994\n",
      "Match:0.9968270807846376\n",
      "Parameters:(1.28519699465037, 0.4997988312529216, 0.0005946204428783828, 0.004068995805513188, 3.951862127451805)\n"
     ]
    }
   ],
   "source": [
    "# validate optimization result\n",
    "\n",
    "optimized_signal = ft_sine_Gaussian(freqs, a, A, c, max_t0, max_phi)\n",
    "\n",
    "test_mode = dict.fromkeys(keys, optimized_signal)\n",
    "\n",
    "opt_strain = network.project(freqs, geocent, max_az, max_po, max_psi, coord=coord, **test_mode)\n",
    "snrs = network.testsnr(freqs, geocent, az_true, po_true, psi_true, coord=coord, **true_modes)\n",
    "\n",
    "print(f'True SNR:{true_snr}')\n",
    "print(f'SNRS:{snrs}')\n",
    "print(f'Filters:{network.testfilter(freqs, data, opt_strain)}')\n",
    "filter=np.sum(np.array(network.testfilter(freqs, data, opt_strain))**2) ** 0.5\n",
    "print(f'Filter:{filter.real}')\n",
    "print(f'Match:{filter.real/true_snr}')\n",
    "print(f'Parameters:{max_az, max_po, max_psi, max_t0, max_phi}')"
   ]
  },
  {
   "cell_type": "code",
   "execution_count": 37,
   "id": "6ae7a8c0",
   "metadata": {},
   "outputs": [
    {
     "name": "stdout",
     "output_type": "stream",
     "text": [
      "Filters:[1.488548832904264e-06, -9.41100044509586e-07, 0.000179231164172007, 0.6905219619631244, 0.00030710778239011855]\n",
      "SNRs: [0.03785027255613761, 0.02772546780602164, 0.004845768468430868, 0.6911019450923067, 0.003750998165313518]\n",
      "0.9936646454439026\n"
     ]
    }
   ],
   "source": [
    "optimized_signal = ft_sine_Gaussian(freqs, a, A, c, max_t0, max_phi)\n",
    "test_mode = dict.fromkeys(keys, optimized_signal)\n",
    "\n",
    "det_filters= []\n",
    "det_snrs = []\n",
    "\n",
    "for i, det in enumerate(network.detectors):\n",
    "    opt_strain = det.project(freqs, geocent, max_az, max_po, max_psi, coord=coord, **test_mode)\n",
    "    det_filter = det.filter(freqs, data[i], opt_strain).real\n",
    "    det_snr = det.snr(freqs, data[i])\n",
    "    det_filters.append(det_filter)\n",
    "    det_snrs.append(det_snr)\n",
    "\n",
    "print(f'Filters:{det_filters}')\n",
    "print(f'SNRs: {det_snrs}')\n",
    "\n",
    "print(np.sum(np.array(det_filters)**2) / np.sum(np.array(det_snrs)**2))"
   ]
  },
  {
   "cell_type": "code",
   "execution_count": 19,
   "id": "9f7c06f9",
   "metadata": {},
   "outputs": [
    {
     "name": "stdout",
     "output_type": "stream",
     "text": [
      "Averaged match: 0.44864097341922193\n",
      "0.9936646454439026\n"
     ]
    }
   ],
   "source": [
    "optimized_signal = ft_sine_Gaussian(freqs, a, A, c, max_t0, max_phi)\n",
    "test_mode = dict.fromkeys(keys, optimized_signal)\n",
    "\n",
    "det_matches= []\n",
    "\n",
    "for i, det in enumerate(network.detectors):\n",
    "    opt_strain = det.project(freqs, geocent, max_az, max_po, max_psi, coord=coord, **test_mode)\n",
    "    det_filter = det.filter(freqs, data[i], opt_strain).real\n",
    "    det_snr = det.snr(freqs, data[i])\n",
    "    det_matches.append(np.abs(det_filter) / det_snr)\n",
    "\n",
    "print(f'Averaged match: {np.sqrt(np.mean(np.array(det_matches)**2))}')\n",
    "\n",
    "print(np.sum(np.array(det_filters)**2) / np.sum(np.array(det_snrs)**2))"
   ]
  },
  {
   "cell_type": "code",
   "execution_count": 27,
   "id": "6e405bdb",
   "metadata": {},
   "outputs": [],
   "source": [
    "# save parameters\n",
    "run_results = {'match': rho_match, \n",
    "               'pole': max_po, 'azim':max_az,\n",
    "               'psi': max_psi, \n",
    "               'phi':max_phi\n",
    "              }\n",
    "\n",
    "current_dict[\"_\".join(keys)] = run_results"
   ]
  },
  {
   "cell_type": "code",
   "execution_count": 28,
   "id": "a72ec87a",
   "metadata": {},
   "outputs": [
    {
     "ename": "SyntaxError",
     "evalue": "f-string: expecting '}' (3150235705.py, line 2)",
     "output_type": "error",
     "traceback": [
      "\u001b[0;36m  Input \u001b[0;32mIn [28]\u001b[0;36m\u001b[0m\n\u001b[0;31m    np.savetxt(f\"results/{true_keys}_{\"_\".join(keys)}.txt\", filter_grid)\u001b[0m\n\u001b[0m                                       ^\u001b[0m\n\u001b[0;31mSyntaxError\u001b[0m\u001b[0;31m:\u001b[0m f-string: expecting '}'\n"
     ]
    }
   ],
   "source": [
    "# save filter grid array\n",
    "np.savetxt(f\"results/{true_keys}_{\"_\".join(keys)}.txt\", filter_grid)"
   ]
  },
  {
   "cell_type": "markdown",
   "id": "c39e16af",
   "metadata": {},
   "source": [
    "## Final results"
   ]
  },
  {
   "cell_type": "code",
   "execution_count": 24,
   "id": "9963ee62",
   "metadata": {},
   "outputs": [],
   "source": [
    "# Convert parameter dictionaries into dataframe\n",
    "\n",
    "df_info = pd.DataFrame.from_dict(info)\n",
    "df_trueparams = pd.DataFrame.from_dict(true_params)"
   ]
  },
  {
   "cell_type": "code",
   "execution_count": 81,
   "id": "89a0f8cc",
   "metadata": {},
   "outputs": [],
   "source": [
    "# Convert results dictionary into dataframe\n",
    "\n",
    "df_results = pd.DataFrame.from_dict(current_dict)"
   ]
  },
  {
   "cell_type": "code",
   "execution_count": 82,
   "id": "007129bf",
   "metadata": {},
   "outputs": [],
   "source": [
    "# Store final results for a set of true parameters\n",
    "\n",
    "import os\n",
    "\n",
    "run_name = 'detectors_match'\n",
    "\n",
    "folder_path = f'./results/{run_name}'\n",
    "if not os.path.exists(folder_path):\n",
    "    os.makedirs(folder_path, exist_ok=True)\n",
    "\n",
    "df_info.to_csv(f'results/{run_name}/{\"_\".join(true_keys)}_info.csv')\n",
    "df_trueparams.to_csv(f'results/{run_name}/{\"_\".join(true_keys)}_trueparams.csv')\n",
    "df_results.to_csv(f'results/{run_name}/{\"_\".join(true_keys) +\"-\" + \"_\".join(keys)}.csv')"
   ]
  },
  {
   "cell_type": "markdown",
   "id": "451e22fa",
   "metadata": {},
   "source": [
    "## Test individual detectors"
   ]
  },
  {
   "cell_type": "code",
   "execution_count": 61,
   "id": "3962c2d4",
   "metadata": {},
   "outputs": [],
   "source": [
    "test_dict={}\n",
    "\n",
    "num=45 # resolution for azims, poles\n",
    "\n",
    "azimuths = np.linspace(-np.pi, np.pi, num)\n",
    "poles = np.flip(np.linspace(0, np.pi, num))\n",
    "\n",
    "Azimuths, Poles = np.meshgrid(azimuths[1:], poles[1:], indexing='ij')\n",
    "Azimuths_flat = Azimuths.flatten()\n",
    "Poles_flat = Poles.flatten()\n",
    "Coords_flat = list(zip(Azimuths_flat, Poles_flat))\n",
    "\n",
    "if __name__=='__main__':\n",
    "    for i, detector in enumerate(network.detectors):\n",
    "        optimization_variables = [a, A, c, detector, freqs, geocent, data[i], coord, keys]\n",
    "        true_snr = detector.snr(freqs, data[i])\n",
    "        list_results = main_cf(Coords_flat, \n",
    "                              filter_3_det, ranges_slice, npts,\n",
    "                              optimization_variables, workers=64, finish=True)\n",
    "        filter_grid=np.reshape(list_results, (num-1,num-1))\n",
    "        max_filter = np.max(filter_grid)\n",
    "        rho_match = max_filter / true_snr\n",
    "\n",
    "        max_skyindex = np.where(filter_grid == np.max(filter_grid))\n",
    "        max_skyindex_coords = list(zip(max_skyindex[0], max_skyindex[1])) # repacking into coordinate indexes\n",
    "        max_sky_coords = [(azimuths[1:][azim_index], poles[1:][pole_index]) \n",
    "                          for (azim_index, pole_index) in max_skyindex_coords]\n",
    "        max_az, max_po = max_sky_coords[0]\n",
    "\n",
    "        if len(max_sky_coords) == 1: \n",
    "            max_vars = brute_max(filter_3_det, ranges_slice, npts, \n",
    "                                 *optimization_variables, max_az, max_po, finish=True)[0]\n",
    "        else: \n",
    "            max_vars = [brute_max(filter_3_det, ranges_slice, npts, \n",
    "                                  *optimization_variables, \n",
    "                                  max_az, max_po, finish=True) for max_az, max_po in max_sky_coords]\n",
    "\n",
    "        results = {'max_filter':max_filter, 'match':rho_match, 'max sky coords':max_sky_coords, 'max_vars':max_vars}\n",
    "        test_dict[f'{i}'] = results"
   ]
  },
  {
   "cell_type": "code",
   "execution_count": 62,
   "id": "a638ae83",
   "metadata": {},
   "outputs": [
    {
     "data": {
      "text/plain": [
       "{'0': {'max_filter': 0.03785026497687115,\n",
       "  'match': 0.9999997997566212,\n",
       "  'max sky coords': [(1.4279966607226333, 1.070997495541975)],\n",
       "  'max_vars': array([ 0.31312886, -0.02000698,  1.89797041])},\n",
       " '1': {'max_filter': 0.02772546637746308,\n",
       "  'match': 0.9999999484748618,\n",
       "  'max sky coords': [(0.5711986642890534, 1.4279966607226333)],\n",
       "  'max_vars': array([ 0.65255856, -0.01923914,  5.78440539])},\n",
       " '2': {'max_filter': 0.004845768435022676,\n",
       "  'match': 0.9999999931056979,\n",
       "  'max sky coords': [(-1.9991953250116865, 1.2851969946503699)],\n",
       "  'max_vars': array([ 1.62183520e-04, -1.89903492e-02,  1.94492406e+00])},\n",
       " '3': {'max_filter': 0.6901509785675791,\n",
       "  'match': 0.9986239851711015,\n",
       "  'max sky coords': [(0.5711986642890534, 0.6425984973251849)],\n",
       "  'max_vars': array([-3.60689900e-05, -6.10734576e-06,  6.35765183e-01])},\n",
       " '4': {'max_filter': 0.0037509981137204967,\n",
       "  'match': 0.9999999862455222,\n",
       "  'max sky coords': [(-2.99879298751753, 2.7131936553730034)],\n",
       "  'max_vars': array([ 1.00403901e-04, -1.94937190e-02,  5.78877104e+00])}}"
      ]
     },
     "execution_count": 62,
     "metadata": {},
     "output_type": "execute_result"
    }
   ],
   "source": [
    "test_dict"
   ]
  },
  {
   "cell_type": "code",
   "execution_count": 26,
   "id": "916a1cfe",
   "metadata": {},
   "outputs": [
    {
     "data": {
      "text/html": [
       "<div>\n",
       "<style scoped>\n",
       "    .dataframe tbody tr th:only-of-type {\n",
       "        vertical-align: middle;\n",
       "    }\n",
       "\n",
       "    .dataframe tbody tr th {\n",
       "        vertical-align: top;\n",
       "    }\n",
       "\n",
       "    .dataframe thead th {\n",
       "        text-align: right;\n",
       "    }\n",
       "</style>\n",
       "<table border=\"1\" class=\"dataframe\">\n",
       "  <thead>\n",
       "    <tr style=\"text-align: right;\">\n",
       "      <th></th>\n",
       "      <th>0</th>\n",
       "      <th>1</th>\n",
       "      <th>2</th>\n",
       "      <th>3</th>\n",
       "      <th>4</th>\n",
       "    </tr>\n",
       "  </thead>\n",
       "  <tbody>\n",
       "    <tr>\n",
       "      <th>max_filter</th>\n",
       "      <td>0.03785</td>\n",
       "      <td>0.027725</td>\n",
       "      <td>0.004846</td>\n",
       "      <td>0.691102</td>\n",
       "      <td>0.003751</td>\n",
       "    </tr>\n",
       "    <tr>\n",
       "      <th>match</th>\n",
       "      <td>1.0</td>\n",
       "      <td>1.0</td>\n",
       "      <td>1.0</td>\n",
       "      <td>1.0</td>\n",
       "      <td>1.0</td>\n",
       "    </tr>\n",
       "    <tr>\n",
       "      <th>max sky coords</th>\n",
       "      <td>[(-1.5707963267948966, 0.0), (0.0, 0.0), (1.57...</td>\n",
       "      <td>[(-1.5707963267948966, 0.0), (0.0, 0.0), (1.57...</td>\n",
       "      <td>[(-1.5707963267948966, 0.0), (0.0, 0.0), (1.57...</td>\n",
       "      <td>[(3.141592653589793, 0.0)]</td>\n",
       "      <td>[(-1.5707963267948966, 0.0), (0.0, 0.0)]</td>\n",
       "    </tr>\n",
       "    <tr>\n",
       "      <th>max_vars</th>\n",
       "      <td>[([0.0, 1.7453292519943295], 0.037850127494915...</td>\n",
       "      <td>[([0.0, 1.6755160819145565], 0.027725361615960...</td>\n",
       "      <td>[([0.0, 1.6057029118347832], 0.004845767797503...</td>\n",
       "      <td>[0.0, 0.20943951023931956]</td>\n",
       "      <td>[([0.0, 3.5604716740684323], 0.003750997645952...</td>\n",
       "    </tr>\n",
       "  </tbody>\n",
       "</table>\n",
       "</div>"
      ],
      "text/plain": [
       "                                                                0  \\\n",
       "max_filter                                                0.03785   \n",
       "match                                                         1.0   \n",
       "max sky coords  [(-1.5707963267948966, 0.0), (0.0, 0.0), (1.57...   \n",
       "max_vars        [([0.0, 1.7453292519943295], 0.037850127494915...   \n",
       "\n",
       "                                                                1  \\\n",
       "max_filter                                               0.027725   \n",
       "match                                                         1.0   \n",
       "max sky coords  [(-1.5707963267948966, 0.0), (0.0, 0.0), (1.57...   \n",
       "max_vars        [([0.0, 1.6755160819145565], 0.027725361615960...   \n",
       "\n",
       "                                                                2  \\\n",
       "max_filter                                               0.004846   \n",
       "match                                                         1.0   \n",
       "max sky coords  [(-1.5707963267948966, 0.0), (0.0, 0.0), (1.57...   \n",
       "max_vars        [([0.0, 1.6057029118347832], 0.004845767797503...   \n",
       "\n",
       "                                         3  \\\n",
       "max_filter                        0.691102   \n",
       "match                                  1.0   \n",
       "max sky coords  [(3.141592653589793, 0.0)]   \n",
       "max_vars        [0.0, 0.20943951023931956]   \n",
       "\n",
       "                                                                4  \n",
       "max_filter                                               0.003751  \n",
       "match                                                         1.0  \n",
       "max sky coords           [(-1.5707963267948966, 0.0), (0.0, 0.0)]  \n",
       "max_vars        [([0.0, 3.5604716740684323], 0.003750997645952...  "
      ]
     },
     "execution_count": 26,
     "metadata": {},
     "output_type": "execute_result"
    }
   ],
   "source": [
    "df_test_dict = pd.DataFrame.from_dict(test_dict)\n",
    "df_test_dict"
   ]
  },
  {
   "cell_type": "code",
   "execution_count": 85,
   "id": "81e52fb0",
   "metadata": {},
   "outputs": [],
   "source": [
    "df_test_dict.to_csv(f'results/{run_name}/{\"_\".join(true_keys)}_detectors.csv')"
   ]
  }
 ],
 "metadata": {
  "kernelspec": {
   "display_name": "Python 3 (ipykernel)",
   "language": "python",
   "name": "python3"
  },
  "language_info": {
   "codemirror_mode": {
    "name": "ipython",
    "version": 3
   },
   "file_extension": ".py",
   "mimetype": "text/x-python",
   "name": "python",
   "nbconvert_exporter": "python",
   "pygments_lexer": "ipython3",
   "version": "3.10.2"
  }
 },
 "nbformat": 4,
 "nbformat_minor": 5
}
