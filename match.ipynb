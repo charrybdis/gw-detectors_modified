{
 "cells": [
  {
   "cell_type": "code",
   "execution_count": 1,
   "id": "cee1cb2c",
   "metadata": {},
   "outputs": [],
   "source": [
    "from gwdetectors import *\n",
    "from Functions import *\n",
    "import numpy as np\n",
    "import pandas as pd\n",
    "import matplotlib.pyplot as plt"
   ]
  },
  {
   "cell_type": "code",
   "execution_count": 3,
   "id": "2b9be623",
   "metadata": {},
   "outputs": [],
   "source": [
    "# Define network, detector, signal\n",
    "\n",
    "c = 299792458.0 # m/s\n",
    "\n",
    "# try this, since we expect the detector response for + to be 0 directly overhead\n",
    "detector = TwoArmDetector('test', PSDS[KNOWN_PSDS[1]], (0, 0, 0), arms = ((2e-5, 0, 0), (0, 2e-5, 0)))\n",
    "\n",
    "flipped_H = TwoArmDetector('flipped_H', PSDS[KNOWN_PSDS[0]], \n",
    "                           np.array([-2.16141492636e+06, -3.83469517889e+06, +4.60035022664e+06])/c,\n",
    "                           (np.array([-0.22389266154, +0.79983062746, +0.55690487831]) * 4e3/c, \n",
    "                            np.array([+0.91397818574, +0.02609403989, -0.40492342125]) * 4e3/c), \n",
    "                           long_wavelength_approximation=False)\n",
    "\n",
    "K_instantiator, K_loc, K_arms = DETECTOR_ORIENTATIONS['K']\n",
    "\n",
    "G_instantiator, G_loc, G_arms = DETECTOR_ORIENTATIONS['G']\n",
    "\n",
    "Geo = G_instantiator('Geo', PSDS[KNOWN_PSDS[0]], G_loc, G_arms, long_wavelength_approximation=False)\n",
    "\n",
    "kagra = K_instantiator('Kagra', PSDS[KNOWN_PSDS[0]], K_loc, K_arms, long_wavelength_approximation=False)\n",
    "\n",
    "CE_loc = np.array([-1000, 4000, 4000]) * 1000 / 299792458\n",
    "CE_arms = DETECTORS['CE@L_ce-design'].arms\n",
    "CE_psd = DETECTORS['CE@L_ce-design'].psd\n",
    "CE = TwoArmDetector('CE', CE_psd, CE_loc, CE_arms, long_wavelength_approximation=False)\n",
    "\n",
    "network = Network(DETECTORS['H_aligo-design'], DETECTORS['L_aligo-design'], \n",
    "                  DETECTORS['V_advirgo-design'], CE, kagra)#, kagra, Geo)\n",
    "\n",
    "fsr = 1 / (2 * np.sum(CE_arms[0]**2)**0.5)\n",
    "\n",
    "# Pick shape of sine-Gaussian signal pulse\n",
    "a = fsr # frequency of sinusoidal component \n",
    "A = 1e-22 # Gaussian peak amplitude\n",
    "c = 1e-2 # standard deviation of Gaussian envelope\n",
    "dt= 0\n",
    "p = 0\n",
    "\n",
    "numpts=200\n",
    "spread=4\n",
    "\n",
    "freqs, ast_signal = produce_freqs_signal(numpts, spread, a, A, c, dt, p)\n",
    "\n",
    "info = {'a': a, 'A': A, 'c': c, 'dt':dt, 'phi':p, 'network':network}"
   ]
  },
  {
   "cell_type": "code",
   "execution_count": 4,
   "id": "6560605b",
   "metadata": {},
   "outputs": [],
   "source": [
    "# Parameters for \"true\" data\n",
    "\n",
    "az_true=0\n",
    "po_true=0\n",
    "psi_true=0\n",
    "geocent=0\n",
    "true_keys=['hp']\n",
    "coord = 'geographic'\n",
    "\n",
    "true_modes = dict.fromkeys(true_keys, ast_signal)\n",
    "\n",
    "data = network.project(freqs, geocent, az_true, po_true, psi_true, coord=coord, **true_modes)\n",
    "\n",
    "true_snr = network.snr(freqs, geocent, az_true, po_true, psi_true, coord=coord, **true_modes)\n",
    "snrs = network.testsnr(freqs, geocent, az_true, po_true, psi_true, coord=coord, **true_modes)\n",
    "\n",
    "true_params = {'pole': po_true, 'azim':az_true,\n",
    "               'psi': psi_true, 'geocent':geocent, 'modes':true_keys\n",
    "              }"
   ]
  },
  {
   "cell_type": "code",
   "execution_count": 5,
   "id": "de6494c5",
   "metadata": {
    "scrolled": true
   },
   "outputs": [
    {
     "data": {
      "text/plain": [
       "104.52780358764622"
      ]
     },
     "execution_count": 5,
     "metadata": {},
     "output_type": "execute_result"
    }
   ],
   "source": [
    "true_snr"
   ]
  },
  {
   "cell_type": "code",
   "execution_count": 6,
   "id": "cd713162",
   "metadata": {},
   "outputs": [],
   "source": [
    "# Create dictionary with true parameters to store results\n",
    "\n",
    "current_dict = {}"
   ]
  },
  {
   "cell_type": "code",
   "execution_count": 7,
   "id": "d6fa15de",
   "metadata": {},
   "outputs": [],
   "source": [
    "# Calculates optimization over t0, psi, phi0 for a grid of sky locations\n",
    "\n",
    "npts=20 # resolution for psi, t0 \n",
    "ranges_slice = ((0, 2*np.pi, 2*np.pi/8), (dt-0.04, dt+0.04, 0.08/4), (0, 2*np.pi, 2*np.pi/8)) \n",
    "#(dt-0.05, dt+0.05, 0.1/2)\n",
    "geocent=0\n",
    "coord='geographic'\n",
    "keys=['hb']\n",
    "\n",
    "num=45 # resolution for azims, poles\n",
    "\n",
    "azimuths = np.linspace(-np.pi, np.pi, num)\n",
    "poles = np.flip(np.linspace(0, np.pi, num))\n",
    "\n",
    "Azimuths, Poles = np.meshgrid(azimuths[1:], poles[1:-1], indexing='ij')\n",
    "Azimuths_flat = Azimuths.flatten()\n",
    "Poles_flat = Poles.flatten()\n",
    "missing_pairs = [(0, 0), (0, np.pi)]\n",
    "Coords_flat = list(zip(Azimuths_flat, Poles_flat)) + missing_pairs\n",
    "\n",
    "optimization_variables = [a, A, c, network, freqs, geocent, data, coord, keys]"
   ]
  },
  {
   "cell_type": "code",
   "execution_count": 8,
   "id": "7c6ae58a",
   "metadata": {},
   "outputs": [],
   "source": [
    "if __name__ == '__main__':\n",
    "    list_results = main_cf(Coords_flat, \n",
    "                           filter_3, ranges_slice, npts,\n",
    "                           optimization_variables, \n",
    "                           workers=64, \n",
    "                           finish=True)"
   ]
  },
  {
   "cell_type": "code",
   "execution_count": 9,
   "id": "8127d175",
   "metadata": {},
   "outputs": [],
   "source": [
    "reshaped = np.reshape(list_results[:-2], (num-1, num-2))\n",
    "zero_zero = list_results[-2]\n",
    "zero_pi = list_results[-1]\n",
    "zero_pi_arr = np.full((num-1,), zero_pi)\n",
    "zero_zero_arr = np.full((num-1,), zero_zero)\n",
    "poles_added = np.column_stack((zero_pi_arr, reshaped, zero_zero_arr))\n",
    "pi_x_arr = poles_added[-1,:]\n",
    "azimuth_added = np.row_stack((pi_x_arr, poles_added))"
   ]
  },
  {
   "cell_type": "code",
   "execution_count": 10,
   "id": "67154543",
   "metadata": {},
   "outputs": [
    {
     "data": {
      "image/png": "[encoded data removed]",
      "text/plain": [
       "<Figure size 432x288 with 2 Axes>"
      ]
     },
     "metadata": {
      "needs_background": "light"
     },
     "output_type": "display_data"
    }
   ],
   "source": [
    "# Plot filter over sky locations\n",
    "\n",
    "phi_plt = np.linspace(-np.pi, np.pi, num)\n",
    "theta_plt = np.linspace(-np.pi/2., np.pi/2.,num)\n",
    "Phi, Theta = np.meshgrid(phi_plt, theta_plt, indexing='ij')\n",
    "\n",
    "fig = plt.figure()\n",
    "ax = fig.add_subplot(111, projection='mollweide')\n",
    "im = ax.pcolormesh(Phi,Theta, azimuth_added, cmap=plt.cm.Reds) \n",
    "plt.colorbar(im)\n",
    "plt.title('Filter')\n",
    "ax.grid(alpha=0.3, linewidth=0.5)\n",
    "plt.show()"
   ]
  },
  {
   "cell_type": "code",
   "execution_count": 11,
   "id": "9bb9e96f",
   "metadata": {},
   "outputs": [
    {
     "data": {
      "image/png": "[encoded data removed]",
      "text/plain": [
       "<Figure size 432x288 with 2 Axes>"
      ]
     },
     "metadata": {
      "needs_background": "light"
     },
     "output_type": "display_data"
    }
   ],
   "source": [
    "# Plot filter/true snr over sky\n",
    "\n",
    "phi_plt = np.linspace(-np.pi, np.pi, num)\n",
    "theta_plt = np.linspace(-np.pi/2., np.pi/2.,num)\n",
    "Phi, Theta = np.meshgrid(phi_plt, theta_plt, indexing='ij')\n",
    "\n",
    "fig = plt.figure()\n",
    "ax = fig.add_subplot(111, projection='mollweide')\n",
    "im = ax.pcolormesh(Phi,Theta, azimuth_added/true_snr, cmap=plt.cm.Reds) \n",
    "plt.colorbar(im)\n",
    "plt.title('Filter/SNR')\n",
    "ax.grid(alpha=0.3, linewidth=0.5)\n",
    "plt.show()"
   ]
  },
  {
   "cell_type": "code",
   "execution_count": 12,
   "id": "2224fa98",
   "metadata": {},
   "outputs": [
    {
     "name": "stdout",
     "output_type": "stream",
     "text": [
      "Max filter: 104.52752576670075\n",
      "Match: 0.9999973421335192\n"
     ]
    }
   ],
   "source": [
    "# Overall match\n",
    "\n",
    "max_filter = np.max(list_results)\n",
    "rho_match = max_filter / true_snr\n",
    "\n",
    "print(f\"Max filter: {max_filter}\")\n",
    "print(f\"Match: {rho_match}\")"
   ]
  },
  {
   "cell_type": "code",
   "execution_count": 13,
   "id": "f1a6f4ca",
   "metadata": {},
   "outputs": [
    {
     "name": "stdout",
     "output_type": "stream",
     "text": [
      "[1892]\n",
      "[(0, 0)]\n"
     ]
    }
   ],
   "source": [
    "# Find sky parameters that give maximum filter response\n",
    "\n",
    "max_skyindex = np.where(list_results == np.max(list_results))\n",
    "print(max_skyindex[0])\n",
    "max_sky_coords = [Coords_flat[i] for i in max_skyindex[0]]\n",
    "print(max_sky_coords)\n",
    "max_az, max_po = max_sky_coords[0]"
   ]
  },
  {
   "cell_type": "code",
   "execution_count": 14,
   "id": "bc1341a6",
   "metadata": {},
   "outputs": [
    {
     "name": "stdout",
     "output_type": "stream",
     "text": [
      "[ 7.99954053e-01  2.51883310e-05 -7.45905051e-05]\n",
      "Max azim: 0, max pole: 0, max psi: 0.7999540525001347, max t0:2.5188330954701168e-05, max_phi: -7.459050508679772e-05\n"
     ]
    }
   ],
   "source": [
    "# Find parameters that give maximum filter response\n",
    "\n",
    "if len(max_sky_coords) == 1: \n",
    "    max_vars = brute_max(filter_3, ranges_slice, npts, *optimization_variables, \n",
    "                         max_az, max_po, finish=True)[0]\n",
    "else: \n",
    "    max_vars_all = [brute_max(filter_3, ranges_slice, npts, *optimization_variables, max_az, max_po, \n",
    "                              finish=True)[0] for max_az, max_po in max_sky_coords]\n",
    "    max_vars = max_vars_all[0]\n",
    "\n",
    "print(max_vars)\n",
    "max_psi, max_t0, max_phi = max_vars\n",
    "print(f\"Max azim: {max_az}, max pole: {max_po}, max psi: {max_psi}, max t0:{max_t0}, max_phi: {max_phi}\")"
   ]
  },
  {
   "cell_type": "code",
   "execution_count": 15,
   "id": "5664679e",
   "metadata": {},
   "outputs": [
    {
     "name": "stdout",
     "output_type": "stream",
     "text": [
      "True SNR:104.52780358764622\n",
      "SNRS:[  5.49586189   4.01527219   4.56641378 104.14597686   3.53527696]\n",
      "Filters:[  -5.49461255+0.11583064j   -4.01526673-0.00654757j\n",
      "    4.56640142-0.0104965j  -104.13230785-1.66639122j\n",
      "    3.5352701 -0.00688281j]\n",
      "Filter104.51385236046369\n",
      "Match:0.9998665309448425\n",
      "Parameters:(0, 0, 0, 0, 0)\n"
     ]
    }
   ],
   "source": [
    "# test against true parameters (except polarization mode)\n",
    "\n",
    "test_mode = dict.fromkeys(keys, ast_signal)\n",
    "\n",
    "strain = network.project(freqs, geocent, az_true, po_true, psi_true+np.pi/4, coord=coord, **test_mode)\n",
    "snrs = network.testsnr(freqs, geocent, az_true, po_true, psi_true, coord=coord, **true_modes)\n",
    "\n",
    "print(f'True SNR:{true_snr}')\n",
    "print(f'SNRS:{snrs}')\n",
    "print(f'Filters:{network.testfilter(freqs, data, strain)}')\n",
    "filter=np.sum(np.array(network.testfilter(freqs, data, strain))**2) ** 0.5\n",
    "print(f'Filter{filter.real}')\n",
    "print(f'Match:{filter.real/true_snr}')\n",
    "print(f'Parameters:{az_true, po_true, psi_true, 0, 0}')"
   ]
  },
  {
   "cell_type": "code",
   "execution_count": 16,
   "id": "51a7a7bc",
   "metadata": {},
   "outputs": [
    {
     "name": "stdout",
     "output_type": "stream",
     "text": [
      "True SNR:104.52780358764622\n",
      "SNRS:[  5.49586189   4.01527219   4.56641378 104.14597686   3.53527696]\n",
      "Filters:[  -5.49197094+0.20438918j   -4.01484079+0.05818052j\n",
      "    4.5656272 -0.08375685j -104.14597428-0.01914137j\n",
      "    3.53469113-0.06360054j]\n",
      "Filter:104.5272550890469\n",
      "Match:0.9999947526057136\n",
      "Parameters:(0, 0, 0.7999540525001347, 2.5188330954701168e-05, -7.459050508679772e-05)\n"
     ]
    }
   ],
   "source": [
    "# validate optimization result\n",
    "\n",
    "optimized_signal = ft_sine_Gaussian(freqs, a, A, c, max_t0, max_phi)\n",
    "\n",
    "test_mode = dict.fromkeys(keys, optimized_signal)\n",
    "\n",
    "opt_strain = network.project(freqs, geocent, max_az, max_po, max_psi, coord=coord, **test_mode)\n",
    "snrs = network.testsnr(freqs, geocent, az_true, po_true, psi_true, coord=coord, **true_modes)\n",
    "\n",
    "print(f'True SNR:{true_snr}')\n",
    "print(f'SNRS:{snrs}')\n",
    "print(f'Filters:{network.testfilter(freqs, data, opt_strain)}')\n",
    "filter=np.sum(np.array(network.testfilter(freqs, data, opt_strain))**2) ** 0.5\n",
    "print(f'Filter:{filter.real}')\n",
    "print(f'Match:{filter.real/true_snr}')\n",
    "print(f'Parameters:{max_az, max_po, max_psi, max_t0, max_phi}')"
   ]
  },
  {
   "cell_type": "code",
   "execution_count": 17,
   "id": "6ae7a8c0",
   "metadata": {},
   "outputs": [
    {
     "name": "stdout",
     "output_type": "stream",
     "text": [
      "Filters:[-5.491970944286972, -4.014840790866237, 4.56562720422226, -104.14597427805248, 3.5346911303098194]\n",
      "SNRs: [5.495861891511244, 4.015272193735173, 4.566413776504663, 104.14597686031406, 3.53527695801525]\n",
      "0.9999946842741028\n"
     ]
    }
   ],
   "source": [
    "optimized_signal = ft_sine_Gaussian(freqs, a, A, c, max_t0, max_phi)\n",
    "test_mode = dict.fromkeys(keys, optimized_signal)\n",
    "\n",
    "det_filters= []\n",
    "det_snrs = []\n",
    "\n",
    "for i, det in enumerate(network.detectors):\n",
    "    opt_strain = det.project(freqs, geocent, max_az, max_po, max_psi, coord=coord, **test_mode)\n",
    "    det_filter = det.filter(freqs, data[i], opt_strain).real\n",
    "    det_snr = det.snr(freqs, data[i])\n",
    "    det_filters.append(det_filter)\n",
    "    det_snrs.append(det_snr)\n",
    "\n",
    "print(f'Filters:{det_filters}')\n",
    "print(f'SNRs: {det_snrs}')\n",
    "\n",
    "print(np.sum(np.array(det_filters)**2) / np.sum(np.array(det_snrs)**2))"
   ]
  },
  {
   "cell_type": "code",
   "execution_count": 35,
   "id": "9f7c06f9",
   "metadata": {},
   "outputs": [
    {
     "name": "stdout",
     "output_type": "stream",
     "text": [
      "Averaged match: 0.9994748553563202\n",
      "0.9999869378443377\n"
     ]
    }
   ],
   "source": [
    "optimized_signal = ft_sine_Gaussian(freqs, a, A, c, max_t0, max_phi)\n",
    "test_mode = dict.fromkeys(keys, optimized_signal)\n",
    "\n",
    "det_matches= []\n",
    "\n",
    "for i, det in enumerate(network.detectors):\n",
    "    opt_strain = det.project(freqs, geocent, max_az, max_po, max_psi, coord=coord, **test_mode)\n",
    "    det_filter = det.filter(freqs, data[i], opt_strain).real\n",
    "    det_snr = det.snr(freqs, data[i])\n",
    "    det_matches.append(np.abs(det_filter) / det_snr)\n",
    "\n",
    "print(f'Averaged match: {np.sqrt(np.mean(np.array(det_matches)**2))}')\n",
    "\n",
    "print(np.sum(np.array(det_filters)**2) / np.sum(np.array(det_snrs)**2))"
   ]
  },
  {
   "cell_type": "code",
   "execution_count": null,
   "id": "6e405bdb",
   "metadata": {},
   "outputs": [],
   "source": [
    "# save parameters\n",
    "run_results = {'match': rho_match, \n",
    "               'pole': max_po, 'azim':max_az,\n",
    "               'psi': max_psi, \n",
    "               'phi':max_phi\n",
    "              }\n",
    "\n",
    "current_dict[\"_\".join(keys)] = run_results"
   ]
  },
  {
   "cell_type": "code",
   "execution_count": null,
   "id": "a72ec87a",
   "metadata": {},
   "outputs": [],
   "source": [
    "# save filter grid array\n",
    "np.savetxt(f\"results/{true_keys}_{\"_\".join(keys)}.txt\", filter_grid)"
   ]
  },
  {
   "cell_type": "markdown",
   "id": "c39e16af",
   "metadata": {},
   "source": [
    "## Final results"
   ]
  },
  {
   "cell_type": "code",
   "execution_count": null,
   "id": "9963ee62",
   "metadata": {},
   "outputs": [],
   "source": [
    "# Convert parameter dictionaries into dataframe\n",
    "\n",
    "df_info = pd.DataFrame.from_dict(info)\n",
    "df_trueparams = pd.DataFrame.from_dict(true_params)"
   ]
  },
  {
   "cell_type": "code",
   "execution_count": null,
   "id": "89a0f8cc",
   "metadata": {},
   "outputs": [],
   "source": [
    "# Convert results dictionary into dataframe\n",
    "\n",
    "df_results = pd.DataFrame.from_dict(current_dict)"
   ]
  },
  {
   "cell_type": "code",
   "execution_count": null,
   "id": "007129bf",
   "metadata": {},
   "outputs": [],
   "source": [
    "# Store final results for a set of true parameters\n",
    "\n",
    "import os\n",
    "\n",
    "run_name = 'detectors_match'\n",
    "\n",
    "folder_path = f'./results/{run_name}'\n",
    "if not os.path.exists(folder_path):\n",
    "    os.makedirs(folder_path, exist_ok=True)\n",
    "\n",
    "df_info.to_csv(f'results/{run_name}/{\"_\".join(true_keys)}_info.csv')\n",
    "df_trueparams.to_csv(f'results/{run_name}/{\"_\".join(true_keys)}_trueparams.csv')\n",
    "df_results.to_csv(f'results/{run_name}/{\"_\".join(true_keys) +\"-\" + \"_\".join(keys)}.csv')"
   ]
  },
  {
   "cell_type": "markdown",
   "id": "451e22fa",
   "metadata": {},
   "source": [
    "## Test individual detectors"
   ]
  },
  {
   "cell_type": "code",
   "execution_count": null,
   "id": "3962c2d4",
   "metadata": {},
   "outputs": [],
   "source": [
    "test_dict={}\n",
    "\n",
    "num=45 # resolution for azims, poles\n",
    "\n",
    "azimuths = np.linspace(-np.pi, np.pi, num)\n",
    "poles = np.flip(np.linspace(0, np.pi, num))\n",
    "\n",
    "Azimuths, Poles = np.meshgrid(azimuths[1:], poles[1:], indexing='ij')\n",
    "Azimuths_flat = Azimuths.flatten()\n",
    "Poles_flat = Poles.flatten()\n",
    "Coords_flat = list(zip(Azimuths_flat, Poles_flat))\n",
    "\n",
    "if __name__=='__main__':\n",
    "    for i, detector in enumerate(network.detectors):\n",
    "        optimization_variables = [a, A, c, detector, freqs, geocent, data[i], coord, keys]\n",
    "        true_snr = detector.snr(freqs, data[i])\n",
    "        list_results = main_cf(Coords_flat, \n",
    "                              filter_3_det, ranges_slice, npts,\n",
    "                              optimization_variables, workers=64, finish=True)\n",
    "        filter_grid=np.reshape(list_results, (num-1,num-1))\n",
    "        max_filter = np.max(filter_grid)\n",
    "        rho_match = max_filter / true_snr\n",
    "\n",
    "        max_skyindex = np.where(filter_grid == np.max(filter_grid))\n",
    "        max_skyindex_coords = list(zip(max_skyindex[0], max_skyindex[1])) # repacking into coordinate indexes\n",
    "        max_sky_coords = [(azimuths[1:][azim_index], poles[1:][pole_index]) \n",
    "                          for (azim_index, pole_index) in max_skyindex_coords]\n",
    "        max_az, max_po = max_sky_coords[0]\n",
    "\n",
    "        if len(max_sky_coords) == 1: \n",
    "            max_vars = brute_max(filter_3_det, ranges_slice, npts, \n",
    "                                 *optimization_variables, max_az, max_po, finish=True)[0]\n",
    "        else: \n",
    "            max_vars = [brute_max(filter_3_det, ranges_slice, npts, \n",
    "                                  *optimization_variables, \n",
    "                                  max_az, max_po, finish=True) for max_az, max_po in max_sky_coords]\n",
    "\n",
    "        results = {'max_filter':max_filter, 'match':rho_match, 'max sky coords':max_sky_coords, 'max_vars':max_vars}\n",
    "        test_dict[f'{i}'] = results"
   ]
  },
  {
   "cell_type": "code",
   "execution_count": null,
   "id": "a638ae83",
   "metadata": {},
   "outputs": [],
   "source": [
    "test_dict"
   ]
  },
  {
   "cell_type": "code",
   "execution_count": null,
   "id": "916a1cfe",
   "metadata": {},
   "outputs": [],
   "source": [
    "df_test_dict = pd.DataFrame.from_dict(test_dict)\n",
    "df_test_dict"
   ]
  },
  {
   "cell_type": "code",
   "execution_count": null,
   "id": "81e52fb0",
   "metadata": {},
   "outputs": [],
   "source": [
    "df_test_dict.to_csv(f'results/{run_name}/{\"_\".join(true_keys)}_detectors.csv')"
   ]
  }
 ],
 "metadata": {
  "kernelspec": {
   "display_name": "Python 3 (ipykernel)",
   "language": "python",
   "name": "python3"
  },
  "language_info": {
   "codemirror_mode": {
    "name": "ipython",
    "version": 3
   },
   "file_extension": ".py",
   "mimetype": "text/x-python",
   "name": "python",
   "nbconvert_exporter": "python",
   "pygments_lexer": "ipython3",
   "version": "3.10.2"
  }
 },
 "nbformat": 4,
 "nbformat_minor": 5
}
